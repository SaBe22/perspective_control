{
 "cells": [
  {
   "cell_type": "code",
   "execution_count": null,
   "metadata": {},
   "outputs": [],
   "source": [
    "\n",
    "import os\n",
    "import sys\n",
    "sys.path.append(r\"..\")\n",
    "import cv2\n",
    "import numpy as np\n",
    "import matplotlib.pyplot as plt\n",
    "from src.perspective_corrector import PerspectiveCorrector"
   ]
  },
  {
   "attachments": {},
   "cell_type": "markdown",
   "metadata": {},
   "source": [
    "### Define the folder where the images are stored"
   ]
  },
  {
   "cell_type": "code",
   "execution_count": null,
   "metadata": {},
   "outputs": [],
   "source": [
    "dataset_folder = r\"./demo\" # path/to/folder\n",
    "list_img_path = [filename for filename in os.listdir(dataset_folder) if os.path.splitext(filename)[-1].lower() in [\".jpg\", \".jpeg\", \".png\", \".tiff\"]]"
   ]
  },
  {
   "cell_type": "markdown",
   "metadata": {},
   "source": [
    "### Init the PerspectiveCorrector that will be used"
   ]
  },
  {
   "cell_type": "code",
   "execution_count": null,
   "metadata": {},
   "outputs": [],
   "source": [
    "perspective_corrector = PerspectiveCorrector(line_detector=\"LineSegmentDetector\") # line_detector can be changed to HoughLineDetector\"LineSegmentDetector\""
   ]
  },
  {
   "cell_type": "markdown",
   "metadata": {},
   "source": [
    "### Apply correction to the images"
   ]
  },
  {
   "cell_type": "code",
   "execution_count": null,
   "metadata": {},
   "outputs": [],
   "source": [
    "bSaveResults = False\n",
    "if bSaveResults:\n",
    "    output_folder = r\"\" # path/to/save/folder\n",
    "    if not os.path.exists(output_folder):\n",
    "        os.makedirs(output_folder)\n",
    "\n",
    "for img_path in list_img_path:\n",
    "    img = cv2.imread(os.path.join(dataset_folder, img_path))\n",
    "    corrected_image, crop_image = perspective_corrector.run(img, visualize_lines=True, display_corrected_images=True)\n",
    "    if bSaveResults:        \n",
    "        cv2.imwrite(os.path.join(output_folder, f\"{os.path.splitext(img_path)[0]}_corrected.jpg\"), crop_image)"
   ]
  }
 ],
 "metadata": {
  "kernelspec": {
   "display_name": "img_proc",
   "language": "python",
   "name": "python3"
  },
  "language_info": {
   "codemirror_mode": {
    "name": "ipython",
    "version": 3
   },
   "file_extension": ".py",
   "mimetype": "text/x-python",
   "name": "python",
   "nbconvert_exporter": "python",
   "pygments_lexer": "ipython3",
   "version": "3.9.16"
  },
  "orig_nbformat": 4
 },
 "nbformat": 4,
 "nbformat_minor": 2
}
